{
 "cells": [
  {
   "attachments": {},
   "cell_type": "markdown",
   "metadata": {},
   "source": [
    "# Panel Data\n",
    "\n",
    "Sometimes, data comes in such a way that many observations share certain common features. For example, several measurements can be made in the same location, under the same condition, or for the same subject. To understand the data and extract meaningful insights, we often need to aggregate these observations. This is where the groupby() function comes into play."
   ]
  },
  {
   "attachments": {},
   "cell_type": "markdown",
   "metadata": {},
   "source": [
    "## Exploring Panel Data\n",
    "\n",
    "As always, let's start by importing pandas and loading our dataset. This time our conversion to datetime will be a bit different."
   ]
  },
  {
   "cell_type": "code",
   "execution_count": null,
   "metadata": {},
   "outputs": [
    {
     "name": "stdout",
     "output_type": "stream",
     "text": [
      "<class 'pandas.core.frame.DataFrame'>\n",
      "RangeIndex: 9959 entries, 0 to 9958\n",
      "Data columns (total 11 columns):\n",
      " #   Column    Non-Null Count  Dtype  \n",
      "---  ------    --------------  -----  \n",
      " 0   GVKEY     9959 non-null   int64  \n",
      " 1   iid       9959 non-null   int64  \n",
      " 2   datadate  9959 non-null   object \n",
      " 3   tic       9959 non-null   object \n",
      " 4   conm      9959 non-null   object \n",
      " 5   cshtrd    9959 non-null   int64  \n",
      " 6   prcod     9855 non-null   float64\n",
      " 7   prcld     9959 non-null   float64\n",
      " 8   prchd     9959 non-null   float64\n",
      " 9   prccd     9959 non-null   float64\n",
      " 10  exchg     9959 non-null   int64  \n",
      "dtypes: float64(4), int64(4), object(3)\n",
      "memory usage: 856.0+ KB\n"
     ]
    },
    {
     "data": {
      "application/vnd.microsoft.datawrangler.viewer.v0+json": {
       "columns": [
        {
         "name": "index",
         "rawType": "int64",
         "type": "integer"
        },
        {
         "name": "GVKEY",
         "rawType": "int64",
         "type": "integer"
        },
        {
         "name": "iid",
         "rawType": "int64",
         "type": "integer"
        },
        {
         "name": "datadate",
         "rawType": "datetime64[ns]",
         "type": "datetime"
        },
        {
         "name": "tic",
         "rawType": "object",
         "type": "string"
        },
        {
         "name": "conm",
         "rawType": "object",
         "type": "string"
        },
        {
         "name": "cshtrd",
         "rawType": "int64",
         "type": "integer"
        },
        {
         "name": "prcod",
         "rawType": "float64",
         "type": "float"
        },
        {
         "name": "prcld",
         "rawType": "float64",
         "type": "float"
        },
        {
         "name": "prchd",
         "rawType": "float64",
         "type": "float"
        },
        {
         "name": "prccd",
         "rawType": "float64",
         "type": "float"
        },
        {
         "name": "exchg",
         "rawType": "int64",
         "type": "integer"
        }
       ],
       "ref": "bf3201cf-522c-4030-9cbf-a83fa5577bbe",
       "rows": [
        [
         "0",
         "1004",
         "1",
         "2023-01-03 00:00:00",
         "AIR",
         "AAR CORP",
         "260279",
         "45.09",
         "44.21",
         "45.58",
         "44.6",
         "11"
        ],
        [
         "1",
         "1004",
         "1",
         "2023-01-04 00:00:00",
         "AIR",
         "AAR CORP",
         "258372",
         "44.56",
         "44.56",
         "45.66",
         "45.24",
         "11"
        ],
        [
         "2",
         "1004",
         "1",
         "2023-01-05 00:00:00",
         "AIR",
         "AAR CORP",
         "132574",
         "44.86",
         "44.5",
         "45.04",
         "44.82",
         "11"
        ],
        [
         "3",
         "1004",
         "1",
         "2023-01-06 00:00:00",
         "AIR",
         "AAR CORP",
         "301259",
         "45.2",
         "45.2",
         "46.52",
         "46.09",
         "11"
        ],
        [
         "4",
         "1004",
         "1",
         "2023-01-09 00:00:00",
         "AIR",
         "AAR CORP",
         "372930",
         "46.84",
         "45.94",
         "47.15",
         "46.18",
         "11"
        ],
        [
         "5",
         "1004",
         "1",
         "2023-01-10 00:00:00",
         "AIR",
         "AAR CORP",
         "159745",
         "45.95",
         "45.6601",
         "46.91",
         "46.83",
         "11"
        ],
        [
         "6",
         "1004",
         "1",
         "2023-01-11 00:00:00",
         "AIR",
         "AAR CORP",
         "164807",
         "46.91",
         "46.91",
         "48.41",
         "48.4",
         "11"
        ],
        [
         "7",
         "1004",
         "1",
         "2023-01-12 00:00:00",
         "AIR",
         "AAR CORP",
         "232769",
         "48.71",
         "48.14",
         "49.5",
         "49.47",
         "11"
        ],
        [
         "8",
         "1004",
         "1",
         "2023-01-13 00:00:00",
         "AIR",
         "AAR CORP",
         "253439",
         "48.89",
         "48.71",
         "49.66",
         "49.25",
         "11"
        ],
        [
         "9",
         "1004",
         "1",
         "2023-01-17 00:00:00",
         "AIR",
         "AAR CORP",
         "264386",
         "49.15",
         "48.81",
         "49.61",
         "49.26",
         "11"
        ],
        [
         "10",
         "1004",
         "1",
         "2023-01-18 00:00:00",
         "AIR",
         "AAR CORP",
         "282601",
         "49.41",
         "48.55",
         "50.13",
         "48.55",
         "11"
        ],
        [
         "11",
         "1004",
         "1",
         "2023-01-19 00:00:00",
         "AIR",
         "AAR CORP",
         "278308",
         "48.06",
         "47.0",
         "48.435",
         "48.04",
         "11"
        ],
        [
         "12",
         "1004",
         "1",
         "2023-01-20 00:00:00",
         "AIR",
         "AAR CORP",
         "234672",
         "48.38",
         "47.65",
         "48.445",
         "48.2",
         "11"
        ],
        [
         "13",
         "1004",
         "1",
         "2023-01-23 00:00:00",
         "AIR",
         "AAR CORP",
         "216566",
         "48.12",
         "47.84",
         "48.33",
         "48.25",
         "11"
        ],
        [
         "14",
         "1004",
         "1",
         "2023-01-24 00:00:00",
         "AIR",
         "AAR CORP",
         "143014",
         "48.32",
         "47.87",
         "48.39",
         "48.15",
         "11"
        ],
        [
         "15",
         "1004",
         "1",
         "2023-01-25 00:00:00",
         "AIR",
         "AAR CORP",
         "151201",
         "47.73",
         "47.68",
         "49.49",
         "49.47",
         "11"
        ],
        [
         "16",
         "1004",
         "1",
         "2023-01-26 00:00:00",
         "AIR",
         "AAR CORP",
         "236585",
         "49.6",
         "49.265",
         "50.52",
         "50.49",
         "11"
        ],
        [
         "17",
         "1004",
         "1",
         "2023-01-27 00:00:00",
         "AIR",
         "AAR CORP",
         "192519",
         "50.46",
         "49.72",
         "50.91",
         "50.2",
         "11"
        ],
        [
         "18",
         "1004",
         "1",
         "2023-01-30 00:00:00",
         "AIR",
         "AAR CORP",
         "202262",
         "49.94",
         "49.73",
         "50.53",
         "49.91",
         "11"
        ],
        [
         "19",
         "1004",
         "1",
         "2023-01-31 00:00:00",
         "AIR",
         "AAR CORP",
         "220857",
         "50.14",
         "50.09",
         "51.44",
         "51.44",
         "11"
        ],
        [
         "20",
         "1004",
         "1",
         "2023-02-01 00:00:00",
         "AIR",
         "AAR CORP",
         "178690",
         "51.5",
         "51.05",
         "52.4",
         "52.03",
         "11"
        ],
        [
         "21",
         "1004",
         "1",
         "2023-02-02 00:00:00",
         "AIR",
         "AAR CORP",
         "235699",
         "52.13",
         "51.67",
         "52.74",
         "52.1",
         "11"
        ],
        [
         "22",
         "1004",
         "1",
         "2023-02-03 00:00:00",
         "AIR",
         "AAR CORP",
         "237153",
         "51.88",
         "51.88",
         "52.84",
         "51.94",
         "11"
        ],
        [
         "23",
         "1004",
         "1",
         "2023-02-06 00:00:00",
         "AIR",
         "AAR CORP",
         "132919",
         "51.67",
         "50.8468",
         "52.16",
         "51.49",
         "11"
        ],
        [
         "24",
         "1004",
         "1",
         "2023-02-07 00:00:00",
         "AIR",
         "AAR CORP",
         "177233",
         "51.47",
         "51.14",
         "52.4",
         "52.24",
         "11"
        ],
        [
         "25",
         "1004",
         "1",
         "2023-02-08 00:00:00",
         "AIR",
         "AAR CORP",
         "107584",
         "51.73",
         "51.59",
         "52.135",
         "51.93",
         "11"
        ],
        [
         "26",
         "1004",
         "1",
         "2023-02-09 00:00:00",
         "AIR",
         "AAR CORP",
         "122663",
         "52.24",
         "50.76",
         "52.465",
         "50.76",
         "11"
        ],
        [
         "27",
         "1004",
         "1",
         "2023-02-10 00:00:00",
         "AIR",
         "AAR CORP",
         "129785",
         "50.62",
         "50.165",
         "51.55",
         "51.41",
         "11"
        ],
        [
         "28",
         "1004",
         "1",
         "2023-02-13 00:00:00",
         "AIR",
         "AAR CORP",
         "126031",
         "51.39",
         "51.11",
         "52.36",
         "52.21",
         "11"
        ],
        [
         "29",
         "1004",
         "1",
         "2023-02-14 00:00:00",
         "AIR",
         "AAR CORP",
         "267295",
         "51.92",
         "51.62",
         "53.86",
         "53.65",
         "11"
        ],
        [
         "30",
         "1004",
         "1",
         "2023-02-15 00:00:00",
         "AIR",
         "AAR CORP",
         "339362",
         "53.46",
         "52.9201",
         "54.76",
         "54.74",
         "11"
        ],
        [
         "31",
         "1004",
         "1",
         "2023-02-16 00:00:00",
         "AIR",
         "AAR CORP",
         "174389",
         "53.88",
         "53.65",
         "54.625",
         "54.41",
         "11"
        ],
        [
         "32",
         "1004",
         "1",
         "2023-02-17 00:00:00",
         "AIR",
         "AAR CORP",
         "263935",
         "54.54",
         "53.81",
         "54.97",
         "54.42",
         "11"
        ],
        [
         "33",
         "1004",
         "1",
         "2023-02-21 00:00:00",
         "AIR",
         "AAR CORP",
         "171762",
         "54.25",
         "53.0",
         "54.33",
         "53.44",
         "11"
        ],
        [
         "34",
         "1004",
         "1",
         "2023-02-22 00:00:00",
         "AIR",
         "AAR CORP",
         "212732",
         "53.32",
         "53.23",
         "54.825",
         "53.94",
         "11"
        ],
        [
         "35",
         "1004",
         "1",
         "2023-02-23 00:00:00",
         "AIR",
         "AAR CORP",
         "199427",
         "54.08",
         "53.93",
         "55.04",
         "55.0",
         "11"
        ],
        [
         "36",
         "1004",
         "1",
         "2023-02-24 00:00:00",
         "AIR",
         "AAR CORP",
         "156838",
         "54.34",
         "53.95",
         "54.71",
         "54.71",
         "11"
        ],
        [
         "37",
         "1004",
         "1",
         "2023-02-27 00:00:00",
         "AIR",
         "AAR CORP",
         "116029",
         "55.14",
         "54.765",
         "55.5",
         "54.91",
         "11"
        ],
        [
         "38",
         "1004",
         "1",
         "2023-02-28 00:00:00",
         "AIR",
         "AAR CORP",
         "218118",
         "54.87",
         "54.08",
         "54.915",
         "54.39",
         "11"
        ],
        [
         "39",
         "1004",
         "1",
         "2023-03-01 00:00:00",
         "AIR",
         "AAR CORP",
         "139758",
         "54.3",
         "53.76",
         "55.24",
         "55.19",
         "11"
        ],
        [
         "40",
         "1004",
         "1",
         "2023-03-02 00:00:00",
         "AIR",
         "AAR CORP",
         "179969",
         "54.9",
         "54.8",
         "56.34",
         "56.07",
         "11"
        ],
        [
         "41",
         "1004",
         "1",
         "2023-03-03 00:00:00",
         "AIR",
         "AAR CORP",
         "138859",
         "56.41",
         "55.7",
         "56.71",
         "56.6",
         "11"
        ],
        [
         "42",
         "1004",
         "1",
         "2023-03-06 00:00:00",
         "AIR",
         "AAR CORP",
         "206901",
         "56.6",
         "54.63",
         "56.6",
         "54.94",
         "11"
        ],
        [
         "43",
         "1004",
         "1",
         "2023-03-07 00:00:00",
         "AIR",
         "AAR CORP",
         "200324",
         "55.08",
         "54.59",
         "55.445",
         "54.68",
         "11"
        ],
        [
         "44",
         "1004",
         "1",
         "2023-03-08 00:00:00",
         "AIR",
         "AAR CORP",
         "178036",
         "54.77",
         "53.96",
         "54.9",
         "54.67",
         "11"
        ],
        [
         "45",
         "1004",
         "1",
         "2023-03-09 00:00:00",
         "AIR",
         "AAR CORP",
         "223681",
         "54.8",
         "53.82",
         "55.5888",
         "53.95",
         "11"
        ],
        [
         "46",
         "1004",
         "1",
         "2023-03-10 00:00:00",
         "AIR",
         "AAR CORP",
         "203616",
         "53.68",
         "51.98",
         "53.71",
         "52.58",
         "11"
        ],
        [
         "47",
         "1004",
         "1",
         "2023-03-13 00:00:00",
         "AIR",
         "AAR CORP",
         "215080",
         "51.37",
         "50.73",
         "52.1",
         "51.81",
         "11"
        ],
        [
         "48",
         "1004",
         "1",
         "2023-03-14 00:00:00",
         "AIR",
         "AAR CORP",
         "168187",
         "53.29",
         "52.27",
         "53.725",
         "52.86",
         "11"
        ],
        [
         "49",
         "1004",
         "1",
         "2023-03-15 00:00:00",
         "AIR",
         "AAR CORP",
         "359526",
         "51.28",
         "49.06",
         "52.005",
         "50.75",
         "11"
        ]
       ],
       "shape": {
        "columns": 11,
        "rows": 9959
       }
      },
      "text/html": [
       "<div>\n",
       "<style scoped>\n",
       "    .dataframe tbody tr th:only-of-type {\n",
       "        vertical-align: middle;\n",
       "    }\n",
       "\n",
       "    .dataframe tbody tr th {\n",
       "        vertical-align: top;\n",
       "    }\n",
       "\n",
       "    .dataframe thead th {\n",
       "        text-align: right;\n",
       "    }\n",
       "</style>\n",
       "<table border=\"1\" class=\"dataframe\">\n",
       "  <thead>\n",
       "    <tr style=\"text-align: right;\">\n",
       "      <th></th>\n",
       "      <th>GVKEY</th>\n",
       "      <th>iid</th>\n",
       "      <th>datadate</th>\n",
       "      <th>tic</th>\n",
       "      <th>conm</th>\n",
       "      <th>cshtrd</th>\n",
       "      <th>prcod</th>\n",
       "      <th>prcld</th>\n",
       "      <th>prchd</th>\n",
       "      <th>prccd</th>\n",
       "      <th>exchg</th>\n",
       "    </tr>\n",
       "  </thead>\n",
       "  <tbody>\n",
       "    <tr>\n",
       "      <th>0</th>\n",
       "      <td>1004</td>\n",
       "      <td>1</td>\n",
       "      <td>2023-01-03</td>\n",
       "      <td>AIR</td>\n",
       "      <td>AAR CORP</td>\n",
       "      <td>260279</td>\n",
       "      <td>45.09</td>\n",
       "      <td>44.21</td>\n",
       "      <td>45.5800</td>\n",
       "      <td>44.60</td>\n",
       "      <td>11</td>\n",
       "    </tr>\n",
       "    <tr>\n",
       "      <th>1</th>\n",
       "      <td>1004</td>\n",
       "      <td>1</td>\n",
       "      <td>2023-01-04</td>\n",
       "      <td>AIR</td>\n",
       "      <td>AAR CORP</td>\n",
       "      <td>258372</td>\n",
       "      <td>44.56</td>\n",
       "      <td>44.56</td>\n",
       "      <td>45.6600</td>\n",
       "      <td>45.24</td>\n",
       "      <td>11</td>\n",
       "    </tr>\n",
       "    <tr>\n",
       "      <th>2</th>\n",
       "      <td>1004</td>\n",
       "      <td>1</td>\n",
       "      <td>2023-01-05</td>\n",
       "      <td>AIR</td>\n",
       "      <td>AAR CORP</td>\n",
       "      <td>132574</td>\n",
       "      <td>44.86</td>\n",
       "      <td>44.50</td>\n",
       "      <td>45.0400</td>\n",
       "      <td>44.82</td>\n",
       "      <td>11</td>\n",
       "    </tr>\n",
       "    <tr>\n",
       "      <th>3</th>\n",
       "      <td>1004</td>\n",
       "      <td>1</td>\n",
       "      <td>2023-01-06</td>\n",
       "      <td>AIR</td>\n",
       "      <td>AAR CORP</td>\n",
       "      <td>301259</td>\n",
       "      <td>45.20</td>\n",
       "      <td>45.20</td>\n",
       "      <td>46.5200</td>\n",
       "      <td>46.09</td>\n",
       "      <td>11</td>\n",
       "    </tr>\n",
       "    <tr>\n",
       "      <th>4</th>\n",
       "      <td>1004</td>\n",
       "      <td>1</td>\n",
       "      <td>2023-01-09</td>\n",
       "      <td>AIR</td>\n",
       "      <td>AAR CORP</td>\n",
       "      <td>372930</td>\n",
       "      <td>46.84</td>\n",
       "      <td>45.94</td>\n",
       "      <td>47.1500</td>\n",
       "      <td>46.18</td>\n",
       "      <td>11</td>\n",
       "    </tr>\n",
       "    <tr>\n",
       "      <th>...</th>\n",
       "      <td>...</td>\n",
       "      <td>...</td>\n",
       "      <td>...</td>\n",
       "      <td>...</td>\n",
       "      <td>...</td>\n",
       "      <td>...</td>\n",
       "      <td>...</td>\n",
       "      <td>...</td>\n",
       "      <td>...</td>\n",
       "      <td>...</td>\n",
       "      <td>...</td>\n",
       "    </tr>\n",
       "    <tr>\n",
       "      <th>9954</th>\n",
       "      <td>3358</td>\n",
       "      <td>2</td>\n",
       "      <td>2023-03-27</td>\n",
       "      <td>CMTL</td>\n",
       "      <td>COMTECH TELECOMMUN</td>\n",
       "      <td>39911</td>\n",
       "      <td>12.28</td>\n",
       "      <td>12.21</td>\n",
       "      <td>12.4799</td>\n",
       "      <td>12.25</td>\n",
       "      <td>14</td>\n",
       "    </tr>\n",
       "    <tr>\n",
       "      <th>9955</th>\n",
       "      <td>3358</td>\n",
       "      <td>2</td>\n",
       "      <td>2023-03-28</td>\n",
       "      <td>CMTL</td>\n",
       "      <td>COMTECH TELECOMMUN</td>\n",
       "      <td>47057</td>\n",
       "      <td>12.15</td>\n",
       "      <td>12.01</td>\n",
       "      <td>12.2150</td>\n",
       "      <td>12.03</td>\n",
       "      <td>14</td>\n",
       "    </tr>\n",
       "    <tr>\n",
       "      <th>9956</th>\n",
       "      <td>3358</td>\n",
       "      <td>2</td>\n",
       "      <td>2023-03-29</td>\n",
       "      <td>CMTL</td>\n",
       "      <td>COMTECH TELECOMMUN</td>\n",
       "      <td>65026</td>\n",
       "      <td>12.26</td>\n",
       "      <td>11.94</td>\n",
       "      <td>12.2600</td>\n",
       "      <td>12.11</td>\n",
       "      <td>14</td>\n",
       "    </tr>\n",
       "    <tr>\n",
       "      <th>9957</th>\n",
       "      <td>3358</td>\n",
       "      <td>2</td>\n",
       "      <td>2023-03-30</td>\n",
       "      <td>CMTL</td>\n",
       "      <td>COMTECH TELECOMMUN</td>\n",
       "      <td>49142</td>\n",
       "      <td>12.36</td>\n",
       "      <td>12.03</td>\n",
       "      <td>12.3661</td>\n",
       "      <td>12.12</td>\n",
       "      <td>14</td>\n",
       "    </tr>\n",
       "    <tr>\n",
       "      <th>9958</th>\n",
       "      <td>3358</td>\n",
       "      <td>2</td>\n",
       "      <td>2023-03-31</td>\n",
       "      <td>CMTL</td>\n",
       "      <td>COMTECH TELECOMMUN</td>\n",
       "      <td>83948</td>\n",
       "      <td>12.28</td>\n",
       "      <td>12.24</td>\n",
       "      <td>12.4900</td>\n",
       "      <td>12.48</td>\n",
       "      <td>14</td>\n",
       "    </tr>\n",
       "  </tbody>\n",
       "</table>\n",
       "<p>9959 rows × 11 columns</p>\n",
       "</div>"
      ],
      "text/plain": [
       "      GVKEY  iid   datadate   tic                conm  cshtrd  prcod  prcld  \\\n",
       "0      1004    1 2023-01-03   AIR            AAR CORP  260279  45.09  44.21   \n",
       "1      1004    1 2023-01-04   AIR            AAR CORP  258372  44.56  44.56   \n",
       "2      1004    1 2023-01-05   AIR            AAR CORP  132574  44.86  44.50   \n",
       "3      1004    1 2023-01-06   AIR            AAR CORP  301259  45.20  45.20   \n",
       "4      1004    1 2023-01-09   AIR            AAR CORP  372930  46.84  45.94   \n",
       "...     ...  ...        ...   ...                 ...     ...    ...    ...   \n",
       "9954   3358    2 2023-03-27  CMTL  COMTECH TELECOMMUN   39911  12.28  12.21   \n",
       "9955   3358    2 2023-03-28  CMTL  COMTECH TELECOMMUN   47057  12.15  12.01   \n",
       "9956   3358    2 2023-03-29  CMTL  COMTECH TELECOMMUN   65026  12.26  11.94   \n",
       "9957   3358    2 2023-03-30  CMTL  COMTECH TELECOMMUN   49142  12.36  12.03   \n",
       "9958   3358    2 2023-03-31  CMTL  COMTECH TELECOMMUN   83948  12.28  12.24   \n",
       "\n",
       "        prchd  prccd  exchg  \n",
       "0     45.5800  44.60     11  \n",
       "1     45.6600  45.24     11  \n",
       "2     45.0400  44.82     11  \n",
       "3     46.5200  46.09     11  \n",
       "4     47.1500  46.18     11  \n",
       "...       ...    ...    ...  \n",
       "9954  12.4799  12.25     14  \n",
       "9955  12.2150  12.03     14  \n",
       "9956  12.2600  12.11     14  \n",
       "9957  12.3661  12.12     14  \n",
       "9958  12.4900  12.48     14  \n",
       "\n",
       "[9959 rows x 11 columns]"
      ]
     },
     "execution_count": 2,
     "metadata": {},
     "output_type": "execute_result"
    }
   ],
   "source": [
    "import pandas as pd\n",
    "\n",
    "df = pd.read_csv(\"https://raw.githubusercontent.com/ImperialCollegeLondon/efds-ta-python/refs/heads/main/data/sec_data.csv\")\n",
    "df.info()\n",
    "\n",
    "df.datadate = pd.to_datetime(df.datadate, format = \"%d/%m/%Y\")  # The date is in European format - need to specify format\n",
    "df"
   ]
  },
  {
   "attachments": {},
   "cell_type": "markdown",
   "metadata": {},
   "source": [
    "We'll stop short of setting the index as our datetime value though. This is because an index must have unique values, and because this panel data contains lots of different company stocks for just one quarter of a year, we'll see the same date lots of times."
   ]
  },
  {
   "cell_type": "code",
   "execution_count": null,
   "metadata": {},
   "outputs": [],
   "source": [
    "df.datadate.nunique()  # how many unique number of date \n",
    "\n",
    "df.datadate.max()  # what is the last date \n",
    "\n",
    "df.datadate.min()  # what is the first date "
   ]
  },
  {
   "attachments": {},
   "cell_type": "markdown",
   "metadata": {},
   "source": [
    "Let's explore this panel data a bit more, to answer some simple questions:\n",
    "\n",
    "- How many companies are considered in the data\n",
    "- How many stocks are considered in the data \n",
    "- Which exchanges are considered in the data\n",
    "- Which exchanges appear most\n"
   ]
  },
  {
   "cell_type": "code",
   "execution_count": null,
   "metadata": {},
   "outputs": [
    {
     "data": {
      "application/vnd.microsoft.datawrangler.viewer.v0+json": {
       "columns": [
        {
         "name": "exchg",
         "rawType": "int64",
         "type": "integer"
        },
        {
         "name": "count",
         "rawType": "float64",
         "type": "float"
        }
       ],
       "ref": "37acecc0-c6f3-43b7-9f13-f511c5d74f44",
       "rows": [
        [
         "11",
         "101.62903225806451"
        ],
        [
         "14",
         "50.0"
        ],
        [
         "12",
         "8.0"
        ],
        [
         "19",
         "1.0"
        ]
       ],
       "shape": {
        "columns": 1,
        "rows": 4
       }
      },
      "text/plain": [
       "exchg\n",
       "11    101.629032\n",
       "14     50.000000\n",
       "12      8.000000\n",
       "19      1.000000\n",
       "Name: count, dtype: float64"
      ]
     },
     "execution_count": 5,
     "metadata": {},
     "output_type": "execute_result"
    }
   ],
   "source": [
    "# how many companies\n",
    "df.GVKEY.nunique()\n",
    "df.conm.nunique()\n",
    "\n",
    "# how many stocks \n",
    "df.tic.nunique()\n",
    "\n",
    "# which exchanges considered\n",
    "df.exchg.unique()\n",
    "\n",
    "# which exchanges appear most \n",
    "df.exchg.value_counts() / 62  # there were 62 days in the covered period \n",
    "\n",
    "# New York Stock Exchange (exchg no. 11) is not integer - some stock may not be traded over the whole period "
   ]
  },
  {
   "attachments": {},
   "cell_type": "markdown",
   "metadata": {},
   "source": [
    "## Grouping\n"
   ]
  },
  {
   "attachments": {},
   "cell_type": "markdown",
   "metadata": {},
   "source": [
    "Grouping is a powerful way to manipulate panel data. Once you've grouped, you can call functions and they will be applied groupwise. The most common application of grouping is to calculate returns on a stock-by-stock basis, but there are many other uses!"
   ]
  },
  {
   "cell_type": "code",
   "execution_count": 8,
   "metadata": {},
   "outputs": [
    {
     "data": {
      "application/vnd.microsoft.datawrangler.viewer.v0+json": {
       "columns": [
        {
         "name": "index",
         "rawType": "int64",
         "type": "integer"
        },
        {
         "name": "GVKEY",
         "rawType": "int64",
         "type": "integer"
        },
        {
         "name": "iid",
         "rawType": "int64",
         "type": "integer"
        },
        {
         "name": "datadate",
         "rawType": "datetime64[ns]",
         "type": "datetime"
        },
        {
         "name": "tic",
         "rawType": "object",
         "type": "string"
        },
        {
         "name": "conm",
         "rawType": "object",
         "type": "string"
        },
        {
         "name": "cshtrd",
         "rawType": "int64",
         "type": "integer"
        },
        {
         "name": "prcod",
         "rawType": "float64",
         "type": "float"
        },
        {
         "name": "prcld",
         "rawType": "float64",
         "type": "float"
        },
        {
         "name": "prchd",
         "rawType": "float64",
         "type": "float"
        },
        {
         "name": "prccd",
         "rawType": "float64",
         "type": "float"
        },
        {
         "name": "exchg",
         "rawType": "int64",
         "type": "integer"
        },
        {
         "name": "returns",
         "rawType": "float64",
         "type": "float"
        }
       ],
       "ref": "2a3f0dfd-ca04-4569-8e47-e23683dd9d6f",
       "rows": [
        [
         "0",
         "1004",
         "1",
         "2023-01-03 00:00:00",
         "AIR",
         "AAR CORP",
         "260279",
         "45.09",
         "44.21",
         "45.58",
         "44.6",
         "11",
         null
        ],
        [
         "1",
         "1004",
         "1",
         "2023-01-04 00:00:00",
         "AIR",
         "AAR CORP",
         "258372",
         "44.56",
         "44.56",
         "45.66",
         "45.24",
         "11",
         "0.014349775784753271"
        ],
        [
         "2",
         "1004",
         "1",
         "2023-01-05 00:00:00",
         "AIR",
         "AAR CORP",
         "132574",
         "44.86",
         "44.5",
         "45.04",
         "44.82",
         "11",
         "-0.009283819628647216"
        ],
        [
         "3",
         "1004",
         "1",
         "2023-01-06 00:00:00",
         "AIR",
         "AAR CORP",
         "301259",
         "45.2",
         "45.2",
         "46.52",
         "46.09",
         "11",
         "0.02833556448014285"
        ],
        [
         "4",
         "1004",
         "1",
         "2023-01-09 00:00:00",
         "AIR",
         "AAR CORP",
         "372930",
         "46.84",
         "45.94",
         "47.15",
         "46.18",
         "11",
         "0.0019527012367106522"
        ],
        [
         "5",
         "1004",
         "1",
         "2023-01-10 00:00:00",
         "AIR",
         "AAR CORP",
         "159745",
         "45.95",
         "45.6601",
         "46.91",
         "46.83",
         "11",
         "0.014075357297531399"
        ],
        [
         "6",
         "1004",
         "1",
         "2023-01-11 00:00:00",
         "AIR",
         "AAR CORP",
         "164807",
         "46.91",
         "46.91",
         "48.41",
         "48.4",
         "11",
         "0.033525517830450546"
        ],
        [
         "7",
         "1004",
         "1",
         "2023-01-12 00:00:00",
         "AIR",
         "AAR CORP",
         "232769",
         "48.71",
         "48.14",
         "49.5",
         "49.47",
         "11",
         "0.022107438016528924"
        ],
        [
         "8",
         "1004",
         "1",
         "2023-01-13 00:00:00",
         "AIR",
         "AAR CORP",
         "253439",
         "48.89",
         "48.71",
         "49.66",
         "49.25",
         "11",
         "-0.004447139680614498"
        ],
        [
         "9",
         "1004",
         "1",
         "2023-01-17 00:00:00",
         "AIR",
         "AAR CORP",
         "264386",
         "49.15",
         "48.81",
         "49.61",
         "49.26",
         "11",
         "0.00020304568527906852"
        ],
        [
         "10",
         "1004",
         "1",
         "2023-01-18 00:00:00",
         "AIR",
         "AAR CORP",
         "282601",
         "49.41",
         "48.55",
         "50.13",
         "48.55",
         "11",
         "-0.014413317092976108"
        ],
        [
         "11",
         "1004",
         "1",
         "2023-01-19 00:00:00",
         "AIR",
         "AAR CORP",
         "278308",
         "48.06",
         "47.0",
         "48.435",
         "48.04",
         "11",
         "-0.010504634397528245"
        ],
        [
         "12",
         "1004",
         "1",
         "2023-01-20 00:00:00",
         "AIR",
         "AAR CORP",
         "234672",
         "48.38",
         "47.65",
         "48.445",
         "48.2",
         "11",
         "0.0033305578684430515"
        ],
        [
         "13",
         "1004",
         "1",
         "2023-01-23 00:00:00",
         "AIR",
         "AAR CORP",
         "216566",
         "48.12",
         "47.84",
         "48.33",
         "48.25",
         "11",
         "0.0010373443983402453"
        ],
        [
         "14",
         "1004",
         "1",
         "2023-01-24 00:00:00",
         "AIR",
         "AAR CORP",
         "143014",
         "48.32",
         "47.87",
         "48.39",
         "48.15",
         "11",
         "-0.002072538860103612"
        ],
        [
         "15",
         "1004",
         "1",
         "2023-01-25 00:00:00",
         "AIR",
         "AAR CORP",
         "151201",
         "47.73",
         "47.68",
         "49.49",
         "49.47",
         "11",
         "0.027414330218068494"
        ],
        [
         "16",
         "1004",
         "1",
         "2023-01-26 00:00:00",
         "AIR",
         "AAR CORP",
         "236585",
         "49.6",
         "49.265",
         "50.52",
         "50.49",
         "11",
         "0.020618556701031077"
        ],
        [
         "17",
         "1004",
         "1",
         "2023-01-27 00:00:00",
         "AIR",
         "AAR CORP",
         "192519",
         "50.46",
         "49.72",
         "50.91",
         "50.2",
         "11",
         "-0.005743711626064574"
        ],
        [
         "18",
         "1004",
         "1",
         "2023-01-30 00:00:00",
         "AIR",
         "AAR CORP",
         "202262",
         "49.94",
         "49.73",
         "50.53",
         "49.91",
         "11",
         "-0.0057768924302790126"
        ],
        [
         "19",
         "1004",
         "1",
         "2023-01-31 00:00:00",
         "AIR",
         "AAR CORP",
         "220857",
         "50.14",
         "50.09",
         "51.44",
         "51.44",
         "11",
         "0.030655179322780945"
        ],
        [
         "20",
         "1004",
         "1",
         "2023-02-01 00:00:00",
         "AIR",
         "AAR CORP",
         "178690",
         "51.5",
         "51.05",
         "52.4",
         "52.03",
         "11",
         "0.011469673405909875"
        ],
        [
         "21",
         "1004",
         "1",
         "2023-02-02 00:00:00",
         "AIR",
         "AAR CORP",
         "235699",
         "52.13",
         "51.67",
         "52.74",
         "52.1",
         "11",
         "0.0013453776667307071"
        ],
        [
         "22",
         "1004",
         "1",
         "2023-02-03 00:00:00",
         "AIR",
         "AAR CORP",
         "237153",
         "51.88",
         "51.88",
         "52.84",
         "51.94",
         "11",
         "-0.003071017274472232"
        ],
        [
         "23",
         "1004",
         "1",
         "2023-02-06 00:00:00",
         "AIR",
         "AAR CORP",
         "132919",
         "51.67",
         "50.8468",
         "52.16",
         "51.49",
         "11",
         "-0.008663842895648699"
        ],
        [
         "24",
         "1004",
         "1",
         "2023-02-07 00:00:00",
         "AIR",
         "AAR CORP",
         "177233",
         "51.47",
         "51.14",
         "52.4",
         "52.24",
         "11",
         "0.014565935133035612"
        ],
        [
         "25",
         "1004",
         "1",
         "2023-02-08 00:00:00",
         "AIR",
         "AAR CORP",
         "107584",
         "51.73",
         "51.59",
         "52.135",
         "51.93",
         "11",
         "-0.005934150076569722"
        ],
        [
         "26",
         "1004",
         "1",
         "2023-02-09 00:00:00",
         "AIR",
         "AAR CORP",
         "122663",
         "52.24",
         "50.76",
         "52.465",
         "50.76",
         "11",
         "-0.022530329289428108"
        ],
        [
         "27",
         "1004",
         "1",
         "2023-02-10 00:00:00",
         "AIR",
         "AAR CORP",
         "129785",
         "50.62",
         "50.165",
         "51.55",
         "51.41",
         "11",
         "0.012805358550039392"
        ],
        [
         "28",
         "1004",
         "1",
         "2023-02-13 00:00:00",
         "AIR",
         "AAR CORP",
         "126031",
         "51.39",
         "51.11",
         "52.36",
         "52.21",
         "11",
         "0.015561174868702565"
        ],
        [
         "29",
         "1004",
         "1",
         "2023-02-14 00:00:00",
         "AIR",
         "AAR CORP",
         "267295",
         "51.92",
         "51.62",
         "53.86",
         "53.65",
         "11",
         "0.02758092319479033"
        ],
        [
         "30",
         "1004",
         "1",
         "2023-02-15 00:00:00",
         "AIR",
         "AAR CORP",
         "339362",
         "53.46",
         "52.9201",
         "54.76",
         "54.74",
         "11",
         "0.02031686859273063"
        ],
        [
         "31",
         "1004",
         "1",
         "2023-02-16 00:00:00",
         "AIR",
         "AAR CORP",
         "174389",
         "53.88",
         "53.65",
         "54.625",
         "54.41",
         "11",
         "-0.006028498355864165"
        ],
        [
         "32",
         "1004",
         "1",
         "2023-02-17 00:00:00",
         "AIR",
         "AAR CORP",
         "263935",
         "54.54",
         "53.81",
         "54.97",
         "54.42",
         "11",
         "0.00018378974453225894"
        ],
        [
         "33",
         "1004",
         "1",
         "2023-02-21 00:00:00",
         "AIR",
         "AAR CORP",
         "171762",
         "54.25",
         "53.0",
         "54.33",
         "53.44",
         "11",
         "-0.01800808526277109"
        ],
        [
         "34",
         "1004",
         "1",
         "2023-02-22 00:00:00",
         "AIR",
         "AAR CORP",
         "212732",
         "53.32",
         "53.23",
         "54.825",
         "53.94",
         "11",
         "0.009356287425149601"
        ],
        [
         "35",
         "1004",
         "1",
         "2023-02-23 00:00:00",
         "AIR",
         "AAR CORP",
         "199427",
         "54.08",
         "53.93",
         "55.04",
         "55.0",
         "11",
         "0.01965146459028544"
        ],
        [
         "36",
         "1004",
         "1",
         "2023-02-24 00:00:00",
         "AIR",
         "AAR CORP",
         "156838",
         "54.34",
         "53.95",
         "54.71",
         "54.71",
         "11",
         "-0.005272727272727207"
        ],
        [
         "37",
         "1004",
         "1",
         "2023-02-27 00:00:00",
         "AIR",
         "AAR CORP",
         "116029",
         "55.14",
         "54.765",
         "55.5",
         "54.91",
         "11",
         "0.003655638822884111"
        ],
        [
         "38",
         "1004",
         "1",
         "2023-02-28 00:00:00",
         "AIR",
         "AAR CORP",
         "218118",
         "54.87",
         "54.08",
         "54.915",
         "54.39",
         "11",
         "-0.009470041886723624"
        ],
        [
         "39",
         "1004",
         "1",
         "2023-03-01 00:00:00",
         "AIR",
         "AAR CORP",
         "139758",
         "54.3",
         "53.76",
         "55.24",
         "55.19",
         "11",
         "0.01470858613715742"
        ],
        [
         "40",
         "1004",
         "1",
         "2023-03-02 00:00:00",
         "AIR",
         "AAR CORP",
         "179969",
         "54.9",
         "54.8",
         "56.34",
         "56.07",
         "11",
         "0.015944917557528582"
        ],
        [
         "41",
         "1004",
         "1",
         "2023-03-03 00:00:00",
         "AIR",
         "AAR CORP",
         "138859",
         "56.41",
         "55.7",
         "56.71",
         "56.6",
         "11",
         "0.009452470126627421"
        ],
        [
         "42",
         "1004",
         "1",
         "2023-03-06 00:00:00",
         "AIR",
         "AAR CORP",
         "206901",
         "56.6",
         "54.63",
         "56.6",
         "54.94",
         "11",
         "-0.02932862190812724"
        ],
        [
         "43",
         "1004",
         "1",
         "2023-03-07 00:00:00",
         "AIR",
         "AAR CORP",
         "200324",
         "55.08",
         "54.59",
         "55.445",
         "54.68",
         "11",
         "-0.004732435384055322"
        ],
        [
         "44",
         "1004",
         "1",
         "2023-03-08 00:00:00",
         "AIR",
         "AAR CORP",
         "178036",
         "54.77",
         "53.96",
         "54.9",
         "54.67",
         "11",
         "-0.00018288222384776898"
        ],
        [
         "45",
         "1004",
         "1",
         "2023-03-09 00:00:00",
         "AIR",
         "AAR CORP",
         "223681",
         "54.8",
         "53.82",
         "55.5888",
         "53.95",
         "11",
         "-0.013169928662886354"
        ],
        [
         "46",
         "1004",
         "1",
         "2023-03-10 00:00:00",
         "AIR",
         "AAR CORP",
         "203616",
         "53.68",
         "51.98",
         "53.71",
         "52.58",
         "11",
         "-0.025393883225208636"
        ],
        [
         "47",
         "1004",
         "1",
         "2023-03-13 00:00:00",
         "AIR",
         "AAR CORP",
         "215080",
         "51.37",
         "50.73",
         "52.1",
         "51.81",
         "11",
         "-0.014644351464435101"
        ],
        [
         "48",
         "1004",
         "1",
         "2023-03-14 00:00:00",
         "AIR",
         "AAR CORP",
         "168187",
         "53.29",
         "52.27",
         "53.725",
         "52.86",
         "11",
         "0.020266357845975635"
        ],
        [
         "49",
         "1004",
         "1",
         "2023-03-15 00:00:00",
         "AIR",
         "AAR CORP",
         "359526",
         "51.28",
         "49.06",
         "52.005",
         "50.75",
         "11",
         "-0.03991676125614829"
        ]
       ],
       "shape": {
        "columns": 12,
        "rows": 9959
       }
      },
      "text/html": [
       "<div>\n",
       "<style scoped>\n",
       "    .dataframe tbody tr th:only-of-type {\n",
       "        vertical-align: middle;\n",
       "    }\n",
       "\n",
       "    .dataframe tbody tr th {\n",
       "        vertical-align: top;\n",
       "    }\n",
       "\n",
       "    .dataframe thead th {\n",
       "        text-align: right;\n",
       "    }\n",
       "</style>\n",
       "<table border=\"1\" class=\"dataframe\">\n",
       "  <thead>\n",
       "    <tr style=\"text-align: right;\">\n",
       "      <th></th>\n",
       "      <th>GVKEY</th>\n",
       "      <th>iid</th>\n",
       "      <th>datadate</th>\n",
       "      <th>tic</th>\n",
       "      <th>conm</th>\n",
       "      <th>cshtrd</th>\n",
       "      <th>prcod</th>\n",
       "      <th>prcld</th>\n",
       "      <th>prchd</th>\n",
       "      <th>prccd</th>\n",
       "      <th>exchg</th>\n",
       "      <th>returns</th>\n",
       "    </tr>\n",
       "  </thead>\n",
       "  <tbody>\n",
       "    <tr>\n",
       "      <th>0</th>\n",
       "      <td>1004</td>\n",
       "      <td>1</td>\n",
       "      <td>2023-01-03</td>\n",
       "      <td>AIR</td>\n",
       "      <td>AAR CORP</td>\n",
       "      <td>260279</td>\n",
       "      <td>45.09</td>\n",
       "      <td>44.21</td>\n",
       "      <td>45.5800</td>\n",
       "      <td>44.60</td>\n",
       "      <td>11</td>\n",
       "      <td>NaN</td>\n",
       "    </tr>\n",
       "    <tr>\n",
       "      <th>1</th>\n",
       "      <td>1004</td>\n",
       "      <td>1</td>\n",
       "      <td>2023-01-04</td>\n",
       "      <td>AIR</td>\n",
       "      <td>AAR CORP</td>\n",
       "      <td>258372</td>\n",
       "      <td>44.56</td>\n",
       "      <td>44.56</td>\n",
       "      <td>45.6600</td>\n",
       "      <td>45.24</td>\n",
       "      <td>11</td>\n",
       "      <td>0.014350</td>\n",
       "    </tr>\n",
       "    <tr>\n",
       "      <th>2</th>\n",
       "      <td>1004</td>\n",
       "      <td>1</td>\n",
       "      <td>2023-01-05</td>\n",
       "      <td>AIR</td>\n",
       "      <td>AAR CORP</td>\n",
       "      <td>132574</td>\n",
       "      <td>44.86</td>\n",
       "      <td>44.50</td>\n",
       "      <td>45.0400</td>\n",
       "      <td>44.82</td>\n",
       "      <td>11</td>\n",
       "      <td>-0.009284</td>\n",
       "    </tr>\n",
       "    <tr>\n",
       "      <th>3</th>\n",
       "      <td>1004</td>\n",
       "      <td>1</td>\n",
       "      <td>2023-01-06</td>\n",
       "      <td>AIR</td>\n",
       "      <td>AAR CORP</td>\n",
       "      <td>301259</td>\n",
       "      <td>45.20</td>\n",
       "      <td>45.20</td>\n",
       "      <td>46.5200</td>\n",
       "      <td>46.09</td>\n",
       "      <td>11</td>\n",
       "      <td>0.028336</td>\n",
       "    </tr>\n",
       "    <tr>\n",
       "      <th>4</th>\n",
       "      <td>1004</td>\n",
       "      <td>1</td>\n",
       "      <td>2023-01-09</td>\n",
       "      <td>AIR</td>\n",
       "      <td>AAR CORP</td>\n",
       "      <td>372930</td>\n",
       "      <td>46.84</td>\n",
       "      <td>45.94</td>\n",
       "      <td>47.1500</td>\n",
       "      <td>46.18</td>\n",
       "      <td>11</td>\n",
       "      <td>0.001953</td>\n",
       "    </tr>\n",
       "    <tr>\n",
       "      <th>...</th>\n",
       "      <td>...</td>\n",
       "      <td>...</td>\n",
       "      <td>...</td>\n",
       "      <td>...</td>\n",
       "      <td>...</td>\n",
       "      <td>...</td>\n",
       "      <td>...</td>\n",
       "      <td>...</td>\n",
       "      <td>...</td>\n",
       "      <td>...</td>\n",
       "      <td>...</td>\n",
       "      <td>...</td>\n",
       "    </tr>\n",
       "    <tr>\n",
       "      <th>9954</th>\n",
       "      <td>3358</td>\n",
       "      <td>2</td>\n",
       "      <td>2023-03-27</td>\n",
       "      <td>CMTL</td>\n",
       "      <td>COMTECH TELECOMMUN</td>\n",
       "      <td>39911</td>\n",
       "      <td>12.28</td>\n",
       "      <td>12.21</td>\n",
       "      <td>12.4799</td>\n",
       "      <td>12.25</td>\n",
       "      <td>14</td>\n",
       "      <td>0.019135</td>\n",
       "    </tr>\n",
       "    <tr>\n",
       "      <th>9955</th>\n",
       "      <td>3358</td>\n",
       "      <td>2</td>\n",
       "      <td>2023-03-28</td>\n",
       "      <td>CMTL</td>\n",
       "      <td>COMTECH TELECOMMUN</td>\n",
       "      <td>47057</td>\n",
       "      <td>12.15</td>\n",
       "      <td>12.01</td>\n",
       "      <td>12.2150</td>\n",
       "      <td>12.03</td>\n",
       "      <td>14</td>\n",
       "      <td>-0.017959</td>\n",
       "    </tr>\n",
       "    <tr>\n",
       "      <th>9956</th>\n",
       "      <td>3358</td>\n",
       "      <td>2</td>\n",
       "      <td>2023-03-29</td>\n",
       "      <td>CMTL</td>\n",
       "      <td>COMTECH TELECOMMUN</td>\n",
       "      <td>65026</td>\n",
       "      <td>12.26</td>\n",
       "      <td>11.94</td>\n",
       "      <td>12.2600</td>\n",
       "      <td>12.11</td>\n",
       "      <td>14</td>\n",
       "      <td>0.006650</td>\n",
       "    </tr>\n",
       "    <tr>\n",
       "      <th>9957</th>\n",
       "      <td>3358</td>\n",
       "      <td>2</td>\n",
       "      <td>2023-03-30</td>\n",
       "      <td>CMTL</td>\n",
       "      <td>COMTECH TELECOMMUN</td>\n",
       "      <td>49142</td>\n",
       "      <td>12.36</td>\n",
       "      <td>12.03</td>\n",
       "      <td>12.3661</td>\n",
       "      <td>12.12</td>\n",
       "      <td>14</td>\n",
       "      <td>0.000826</td>\n",
       "    </tr>\n",
       "    <tr>\n",
       "      <th>9958</th>\n",
       "      <td>3358</td>\n",
       "      <td>2</td>\n",
       "      <td>2023-03-31</td>\n",
       "      <td>CMTL</td>\n",
       "      <td>COMTECH TELECOMMUN</td>\n",
       "      <td>83948</td>\n",
       "      <td>12.28</td>\n",
       "      <td>12.24</td>\n",
       "      <td>12.4900</td>\n",
       "      <td>12.48</td>\n",
       "      <td>14</td>\n",
       "      <td>0.029703</td>\n",
       "    </tr>\n",
       "  </tbody>\n",
       "</table>\n",
       "<p>9959 rows × 12 columns</p>\n",
       "</div>"
      ],
      "text/plain": [
       "      GVKEY  iid   datadate   tic                conm  cshtrd  prcod  prcld  \\\n",
       "0      1004    1 2023-01-03   AIR            AAR CORP  260279  45.09  44.21   \n",
       "1      1004    1 2023-01-04   AIR            AAR CORP  258372  44.56  44.56   \n",
       "2      1004    1 2023-01-05   AIR            AAR CORP  132574  44.86  44.50   \n",
       "3      1004    1 2023-01-06   AIR            AAR CORP  301259  45.20  45.20   \n",
       "4      1004    1 2023-01-09   AIR            AAR CORP  372930  46.84  45.94   \n",
       "...     ...  ...        ...   ...                 ...     ...    ...    ...   \n",
       "9954   3358    2 2023-03-27  CMTL  COMTECH TELECOMMUN   39911  12.28  12.21   \n",
       "9955   3358    2 2023-03-28  CMTL  COMTECH TELECOMMUN   47057  12.15  12.01   \n",
       "9956   3358    2 2023-03-29  CMTL  COMTECH TELECOMMUN   65026  12.26  11.94   \n",
       "9957   3358    2 2023-03-30  CMTL  COMTECH TELECOMMUN   49142  12.36  12.03   \n",
       "9958   3358    2 2023-03-31  CMTL  COMTECH TELECOMMUN   83948  12.28  12.24   \n",
       "\n",
       "        prchd  prccd  exchg   returns  \n",
       "0     45.5800  44.60     11       NaN  \n",
       "1     45.6600  45.24     11  0.014350  \n",
       "2     45.0400  44.82     11 -0.009284  \n",
       "3     46.5200  46.09     11  0.028336  \n",
       "4     47.1500  46.18     11  0.001953  \n",
       "...       ...    ...    ...       ...  \n",
       "9954  12.4799  12.25     14  0.019135  \n",
       "9955  12.2150  12.03     14 -0.017959  \n",
       "9956  12.2600  12.11     14  0.006650  \n",
       "9957  12.3661  12.12     14  0.000826  \n",
       "9958  12.4900  12.48     14  0.029703  \n",
       "\n",
       "[9959 rows x 12 columns]"
      ]
     },
     "execution_count": 8,
     "metadata": {},
     "output_type": "execute_result"
    }
   ],
   "source": [
    "df[\"returns\"] = df.groupby(\"tic\").prccd.pct_change()\n",
    "df"
   ]
  },
  {
   "cell_type": "code",
   "execution_count": 15,
   "metadata": {},
   "outputs": [
    {
     "data": {
      "application/vnd.microsoft.datawrangler.viewer.v0+json": {
       "columns": [
        {
         "name": "tic",
         "rawType": "object",
         "type": "string"
        },
        {
         "name": "0",
         "rawType": "int64",
         "type": "integer"
        }
       ],
       "ref": "da8c1a5b-c02a-493c-a590-383e2f1964e9",
       "rows": [
        [
         "AAL",
         "62"
        ],
        [
         "AAPL",
         "62"
        ],
        [
         "ABM",
         "62"
        ],
        [
         "ABT",
         "62"
        ],
        [
         "ACU",
         "62"
        ],
        [
         "ADI",
         "62"
        ],
        [
         "ADM",
         "62"
        ],
        [
         "ADP",
         "62"
        ],
        [
         "ADSK",
         "62"
        ],
        [
         "ADX",
         "62"
        ],
        [
         "AE",
         "62"
        ],
        [
         "AEM",
         "62"
        ],
        [
         "AEP",
         "62"
        ],
        [
         "AFL",
         "62"
        ],
        [
         "AIG",
         "62"
        ],
        [
         "AIR",
         "62"
        ],
        [
         "AIRT",
         "62"
        ],
        [
         "AIT",
         "62"
        ],
        [
         "ALCO",
         "62"
        ],
        [
         "ALK",
         "62"
        ],
        [
         "ALOT",
         "62"
        ],
        [
         "ALX",
         "62"
        ],
        [
         "AMAT",
         "62"
        ],
        [
         "AMD",
         "62"
        ],
        [
         "AME",
         "62"
        ],
        [
         "AMGN",
         "62"
        ],
        [
         "AMS",
         "62"
        ],
        [
         "AMSWA",
         "62"
        ],
        [
         "ANDE",
         "62"
        ],
        [
         "AON",
         "62"
        ],
        [
         "AP",
         "62"
        ],
        [
         "APA",
         "62"
        ],
        [
         "APD",
         "62"
        ],
        [
         "APOG",
         "62"
        ],
        [
         "ARCB",
         "62"
        ],
        [
         "ARL",
         "62"
        ],
        [
         "ARTW",
         "62"
        ],
        [
         "ARW",
         "62"
        ],
        [
         "ASA",
         "62"
        ],
        [
         "ASH",
         "62"
        ],
        [
         "ASTL",
         "62"
        ],
        [
         "ATRI",
         "62"
        ],
        [
         "ATRO",
         "62"
        ],
        [
         "AVD",
         "62"
        ],
        [
         "AVT",
         "62"
        ],
        [
         "AVY",
         "62"
        ],
        [
         "AXP",
         "62"
        ],
        [
         "AXR",
         "62"
        ],
        [
         "AZZ",
         "62"
        ],
        [
         "B",
         "62"
        ]
       ],
       "shape": {
        "columns": 1,
        "rows": 161
       }
      },
      "text/plain": [
       "tic\n",
       "AAL       62\n",
       "AAPL      62\n",
       "ABM       62\n",
       "ABT       62\n",
       "ACU       62\n",
       "          ..\n",
       "UHAL.B    62\n",
       "UIS       62\n",
       "VAL       62\n",
       "VBF       62\n",
       "VZ        62\n",
       "Length: 161, dtype: int64"
      ]
     },
     "execution_count": 15,
     "metadata": {},
     "output_type": "execute_result"
    }
   ],
   "source": [
    "df.groupby(\"tic\").size()  # RFP is the stock that is not trading over the whole period "
   ]
  },
  {
   "cell_type": "markdown",
   "metadata": {},
   "source": [
    "Let's see what else we can do with grouping. Recall that we had more stocks than companies. Let's see why that is by looking at how many unique stocks are issued by each company (using the `tic`). Then let's list those companies."
   ]
  },
  {
   "cell_type": "code",
   "execution_count": 18,
   "metadata": {},
   "outputs": [
    {
     "data": {
      "application/vnd.microsoft.datawrangler.viewer.v0+json": {
       "columns": [
        {
         "name": "conm",
         "rawType": "object",
         "type": "string"
        },
        {
         "name": "tic",
         "rawType": "bool",
         "type": "boolean"
        }
       ],
       "ref": "0ebf682d-5710-4925-82e2-c7eb39c2d649",
       "rows": [
        [
         "BEL FUSE INC",
         "True"
        ],
        [
         "BERKSHIRE HATHAWAY",
         "True"
        ],
        [
         "BIO-RAD LABORATORIES INC",
         "True"
        ],
        [
         "BROWN FORMAN CORP",
         "True"
        ],
        [
         "U-HAUL HOLDING CO",
         "True"
        ]
       ],
       "shape": {
        "columns": 1,
        "rows": 5
       }
      },
      "text/plain": [
       "conm\n",
       "BEL FUSE INC                True\n",
       "BERKSHIRE HATHAWAY          True\n",
       "BIO-RAD LABORATORIES INC    True\n",
       "BROWN FORMAN CORP           True\n",
       "U-HAUL HOLDING CO           True\n",
       "Name: tic, dtype: bool"
      ]
     },
     "execution_count": 18,
     "metadata": {},
     "output_type": "execute_result"
    }
   ],
   "source": [
    "condition = df.groupby(\"conm\").tic.nunique() > 1\n",
    "condition[condition == True]"
   ]
  },
  {
   "attachments": {},
   "cell_type": "markdown",
   "metadata": {},
   "source": [
    "### Exercise: Excellent Exchanges\n",
    "\n",
    "**Part 1** Identify the number of unique stocks traded on each exchange."
   ]
  },
  {
   "cell_type": "code",
   "execution_count": 13,
   "metadata": {},
   "outputs": [
    {
     "data": {
      "application/vnd.microsoft.datawrangler.viewer.v0+json": {
       "columns": [
        {
         "name": "exchg",
         "rawType": "int64",
         "type": "integer"
        },
        {
         "name": "tic",
         "rawType": "int64",
         "type": "integer"
        }
       ],
       "ref": "9088dc3c-4431-4282-8cd2-de28673e3bb0",
       "rows": [
        [
         "11",
         "102"
        ],
        [
         "12",
         "8"
        ],
        [
         "14",
         "50"
        ],
        [
         "19",
         "1"
        ]
       ],
       "shape": {
        "columns": 1,
        "rows": 4
       }
      },
      "text/plain": [
       "exchg\n",
       "11    102\n",
       "12      8\n",
       "14     50\n",
       "19      1\n",
       "Name: tic, dtype: int64"
      ]
     },
     "execution_count": 13,
     "metadata": {},
     "output_type": "execute_result"
    }
   ],
   "source": [
    "df.groupby(\"exchg\").tic.nunique()"
   ]
  },
  {
   "cell_type": "markdown",
   "metadata": {},
   "source": [
    "**Part 2** Then identify any companies that trade on more than one exchange."
   ]
  },
  {
   "cell_type": "code",
   "execution_count": null,
   "metadata": {},
   "outputs": [
    {
     "data": {
      "application/vnd.microsoft.datawrangler.viewer.v0+json": {
       "columns": [
        {
         "name": "conm",
         "rawType": "object",
         "type": "string"
        },
        {
         "name": "exchg",
         "rawType": "bool",
         "type": "boolean"
        }
       ],
       "ref": "56e7dedc-6ac5-4b31-a1ca-891fec961cd4",
       "rows": [
        [
         "BIO-RAD LABORATORIES INC",
         "True"
        ]
       ],
       "shape": {
        "columns": 1,
        "rows": 1
       }
      },
      "text/plain": [
       "conm\n",
       "BIO-RAD LABORATORIES INC    True\n",
       "Name: exchg, dtype: bool"
      ]
     },
     "execution_count": 19,
     "metadata": {},
     "output_type": "execute_result"
    }
   ],
   "source": [
    "condition = df.groupby(\"conm\").exchg.nunique() > 1\n",
    "condition[condition == True]  "
   ]
  },
  {
   "attachments": {},
   "cell_type": "markdown",
   "metadata": {},
   "source": [
    "## Aggregation\n",
    "\n",
    "Aggregation functions like `mean()`, `median()`, `sum()`, `min()`, `max()`, `first()`, `last()` and `std()` can be applied to grouped data to give insights across panel data. Say we wanted the average daily return of each traded stock, or the max volume traded on any given day for each stock?"
   ]
  },
  {
   "cell_type": "code",
   "execution_count": null,
   "metadata": {},
   "outputs": [],
   "source": []
  },
  {
   "attachments": {},
   "cell_type": "markdown",
   "metadata": {},
   "source": [
    "Once we've done these sorts of aggregation, we're often curious to see who sits at the top or the bottom of the distribution. We can use `nlargest()` and its antonym here."
   ]
  },
  {
   "cell_type": "code",
   "execution_count": null,
   "metadata": {},
   "outputs": [],
   "source": []
  },
  {
   "attachments": {},
   "cell_type": "markdown",
   "metadata": {},
   "source": [
    "We can also group by multiple columns! This can be helpful when doing aggregation, for example, to find high performers in each month."
   ]
  },
  {
   "cell_type": "code",
   "execution_count": null,
   "metadata": {},
   "outputs": [],
   "source": []
  },
  {
   "attachments": {},
   "cell_type": "markdown",
   "metadata": {},
   "source": [
    "### Exercise: Good Days\n",
    "\n",
    "Which two days of the week see the highest average close in this data set, and what is the average close for those days?  "
   ]
  },
  {
   "cell_type": "code",
   "execution_count": null,
   "metadata": {},
   "outputs": [],
   "source": []
  },
  {
   "attachments": {},
   "cell_type": "markdown",
   "metadata": {},
   "source": [
    "### Exercise: Trading Exchanges\n",
    "\n",
    "Next identify the total trading volume of each exchange."
   ]
  },
  {
   "cell_type": "code",
   "execution_count": null,
   "metadata": {},
   "outputs": [],
   "source": []
  },
  {
   "cell_type": "markdown",
   "metadata": {},
   "source": [
    "### Exercise: The 500 Club\n",
    "\n",
    "For stocks that reached a closing price above 500, how many times in each month, did they acheive this?"
   ]
  },
  {
   "cell_type": "code",
   "execution_count": null,
   "metadata": {},
   "outputs": [],
   "source": []
  }
 ],
 "metadata": {
  "kernelspec": {
   "display_name": "Python 3",
   "language": "python",
   "name": "python3"
  },
  "language_info": {
   "codemirror_mode": {
    "name": "ipython",
    "version": 3
   },
   "file_extension": ".py",
   "mimetype": "text/x-python",
   "name": "python",
   "nbconvert_exporter": "python",
   "pygments_lexer": "ipython3",
   "version": "3.12.1"
  },
  "orig_nbformat": 4
 },
 "nbformat": 4,
 "nbformat_minor": 2
}
